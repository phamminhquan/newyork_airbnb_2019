{
 "cells": [
  {
   "cell_type": "code",
   "execution_count": 19,
   "metadata": {},
   "outputs": [
    {
     "data": {
      "application/vnd.jupyter.widget-view+json": {
       "model_id": "45f0508a3dba42c58d96db0631df8c2d",
       "version_major": 2,
       "version_minor": 0
      },
      "text/plain": [
       "Dropdown(description='Group:', options=('Manhattan', 'Brooklyn', 'Bronx', 'Queens', 'Staten Island'), value='M…"
      ]
     },
     "metadata": {},
     "output_type": "display_data"
    },
    {
     "data": {
      "application/vnd.jupyter.widget-view+json": {
       "model_id": "9895b5701f484f7b8e7123e767704c97",
       "version_major": 2,
       "version_minor": 0
      },
      "text/plain": [
       "Text(value='', description='Area:', placeholder='e.g. Harlem')"
      ]
     },
     "metadata": {},
     "output_type": "display_data"
    },
    {
     "data": {
      "application/vnd.jupyter.widget-view+json": {
       "model_id": "0722535541c7470fa3d2c6644f2ba0fb",
       "version_major": 2,
       "version_minor": 0
      },
      "text/plain": [
       "Dropdown(description='Room Type:', options=('Entire home/apt', 'Private room', 'Shared room'), value='Entire h…"
      ]
     },
     "metadata": {},
     "output_type": "display_data"
    },
    {
     "data": {
      "application/vnd.jupyter.widget-view+json": {
       "model_id": "9fe8038fd9ca41e2a7bc1542c924889c",
       "version_major": 2,
       "version_minor": 0
      },
      "text/plain": [
       "BoundedIntText(value=1, description='Max Price:', max=10000)"
      ]
     },
     "metadata": {},
     "output_type": "display_data"
    },
    {
     "data": {
      "application/vnd.jupyter.widget-view+json": {
       "model_id": "0e9318d4c98943af949f2c2d3ca4a77d",
       "version_major": 2,
       "version_minor": 0
      },
      "text/plain": [
       "BoundedIntText(value=1, description='Nights:', max=1250, min=1)"
      ]
     },
     "metadata": {},
     "output_type": "display_data"
    },
    {
     "data": {
      "application/vnd.jupyter.widget-view+json": {
       "model_id": "df100d56da984572ab5b59c7df563c45",
       "version_major": 2,
       "version_minor": 0
      },
      "text/plain": [
       "Button(description='Update', style=ButtonStyle())"
      ]
     },
     "metadata": {},
     "output_type": "display_data"
    },
    {
     "data": {
      "application/vnd.jupyter.widget-view+json": {
       "model_id": "99cbf7fa4ae34a508dd62002c3872f15",
       "version_major": 2,
       "version_minor": 0
      },
      "text/plain": [
       "Map(basemap={'url': 'https://{s}.tile.openstreetmap.org/{z}/{x}/{y}.png', 'max_zoom': 19, 'attribution': 'Map …"
      ]
     },
     "metadata": {},
     "output_type": "display_data"
    }
   ],
   "source": [
    "from IPython.display import display\n",
    "from save_load_csv import load_csv\n",
    "import ipyleaflet as leaflet\n",
    "import ipywidgets as widgets\n",
    "\n",
    "# Static variables for parsing\n",
    "neighbourhood_group_list = ['Manhattan', 'Brooklyn', 'Bronx', 'Queens', 'Staten Island']\n",
    "room_type_list = ['Entire home/apt', 'Private room', 'Shared room']\n",
    "desired_keys = ['neighbourhood_group', 'neighbourhood', 'latitude', 'longitude', 'price', 'room_type', 'minimum_nights']\n",
    "data = load_csv('./AB_NYC_2019.csv')\n",
    "print(len(data))\n",
    "\n",
    "# Filter data with desired keys\n",
    "filtered_data = []\n",
    "for sample in data:\n",
    "    filtered_data.append({key: sample[key] for key in desired_keys})\n",
    "\n",
    "# Cleanup used data\n",
    "del data\n",
    "\n",
    "# Initialize map and layer object\n",
    "m = leaflet.Map(center=(0,0), zoom=1)\n",
    "m.add_control(leaflet.LayersControl())\n",
    "layer_group = leaflet.LayerGroup()\n",
    "\n",
    "# Filter dictionary\n",
    "filter_value = {'neighbourhood_group': '',\n",
    "                'neighbourhood': '',\n",
    "                'room_type': '',\n",
    "                'price_min': 0,\n",
    "                'price_max': 100,\n",
    "                'nights': 1\n",
    "               }\n",
    "\n",
    "# Filter function\n",
    "def predicate(sample):\n",
    "    if (sample['neighbourhood_group']==filter_value['neighbourhood_group'] and\n",
    "        sample['neighbourhood']==filter_value['neighbourhood'] and\n",
    "        sample['room_type']==filter_value['room_type'] and\n",
    "        int(sample['price']) <= filter_value['price_max'] and\n",
    "        int(sample['minimum_nights']) <= filter_value['nights']):\n",
    "        return True\n",
    "    else:\n",
    "        return False\n",
    "\n",
    "# Filtering\n",
    "def filter_input(data): return list(filter(predicate, data))\n",
    "\n",
    "# Update Map\n",
    "def update_map(neighbourhood_group,\n",
    "               neighbourhood,\n",
    "               room_type,\n",
    "               price_max,\n",
    "               nights):\n",
    "    # Update filter value\n",
    "    filter_value['neighbourhood_group'] = neighbourhood_group\n",
    "    filter_value['neighbourhood'] = neighbourhood\n",
    "    filter_value['room_type'] = room_type\n",
    "    filter_value['price_max'] = price_max\n",
    "    filter_value['nights'] = nights\n",
    "    \n",
    "    # Filter data by input param\n",
    "    output = filter_input(filtered_data)\n",
    "    if len(output)==0:\n",
    "        print('Warning: no listings, which can be caused by wrong filter values')\n",
    "        return\n",
    "    print('Numer of listings: {}'.format(len(output)))\n",
    "    \n",
    "    # Get center and zoom\n",
    "    # Get coordinates from filter output (lat, long)\n",
    "    coordinates = []\n",
    "    lat_center, lng_center = 0, 0\n",
    "    min_lat, max_lat, min_lng, max_lng = 0, 0, 0, 0\n",
    "    for sample in output:\n",
    "        coordinates.append((float(sample['latitude']), float(sample['longitude'])))\n",
    "        lat_center += float(sample['latitude'])\n",
    "        lng_center += float(sample['longitude'])\n",
    "    lat_center /= len(output)\n",
    "    lng_center /= len(output)\n",
    "\n",
    "    # Get min and max lat for zoom calculation\n",
    "    lat_min_max = min(coordinates)[0], max(coordinates)[0]\n",
    "    lat_range = lat_min_max[1]-lat_min_max[0]\n",
    "    lng_min_max = min(coordinates)[1], max(coordinates)[1]\n",
    "    lng_range = lng_min_max[1]-lng_min_max[0]\n",
    "    if lat_range > lng_range:\n",
    "        max_range = lat_range\n",
    "    else:\n",
    "        max_range = lng_range\n",
    "\n",
    "    # Generate center and zoom for map\n",
    "    center = (lat_center, lng_center) # geological center of US\n",
    "    zoom = int(np.floor(-3.3333*max_range + 13.6667))\n",
    "    if zoom > 18:\n",
    "        zoom = 18\n",
    "    elif zoom < 1:\n",
    "        zoom = 1\n",
    "        \n",
    "    # Reset map\n",
    "    if len(m.layers) > 1:\n",
    "        m.remove_layer(m.layers[1])\n",
    "    m.center = center\n",
    "    m.zoom = zoom\n",
    "\n",
    "    # Clean the circles layer group from previous trigger\n",
    "    if len(layer_group.layers) != 0:\n",
    "        for layer in layer_group.layers:\n",
    "            layer_group.remove_layer(layer)\n",
    "\n",
    "    # Add new circles to layer group\n",
    "    for i in range(len(coordinates)):\n",
    "        layer_group.add_layer(leaflet.Circle(location=coordinates[i], radius=3, color='red', fill_color='red'))\n",
    "\n",
    "    # Add layer group to map\n",
    "    m.add_layer(layer_group)\n",
    "    \n",
    "# Create widgets for map\n",
    "neighbourhood_group_widget = widgets.Dropdown(\n",
    "    options=neighbourhood_group_list,\n",
    "    #value='',\n",
    "    description='Group:',\n",
    "    disabled=False,\n",
    ")\n",
    "\n",
    "neighbourhood_widget = widgets.Text(\n",
    "    #value='',\n",
    "    placeholder='e.g. Harlem',\n",
    "    description='Area:',\n",
    "    disabled=False\n",
    ")\n",
    "            \n",
    "room_type_widget = widgets.Dropdown(\n",
    "    options=room_type_list,\n",
    "    #value='',\n",
    "    description='Room Type:',\n",
    "    disabled=False,\n",
    ")\n",
    "\n",
    "max_price_widget = widgets.BoundedIntText(\n",
    "    value=1,\n",
    "    min=0,\n",
    "    max=10000,\n",
    "    step=1,\n",
    "    description='Max Price:',\n",
    "    disabled=False\n",
    ")\n",
    "            \n",
    "nights_widget = widgets.BoundedIntText(\n",
    "    value=1,\n",
    "    min=1,\n",
    "    max=1250,\n",
    "    step=1,\n",
    "    description='Nights:',\n",
    "    disabled=False\n",
    ")\n",
    "\n",
    "button_widget = widgets.Button(description=\"Update\")\n",
    "def on_button_clicked(b):\n",
    "    update_map(neighbourhood_group_widget.value,\n",
    "               neighbourhood_widget.value,\n",
    "               room_type_widget.value,\n",
    "               max_price_widget.value,\n",
    "               nights_widget.value\n",
    "              )\n",
    "button_widget.on_click(on_button_clicked)\n",
    "\n",
    "# Display widgets\n",
    "display(neighbourhood_group_widget)\n",
    "display(neighbourhood_widget)\n",
    "display(room_type_widget)\n",
    "display(max_price_widget)\n",
    "display(nights_widget)\n",
    "display(button_widget)\n",
    "\n",
    "# Display map\n",
    "m"
   ]
  },
  {
   "cell_type": "code",
   "execution_count": null,
   "metadata": {},
   "outputs": [],
   "source": []
  }
 ],
 "metadata": {
  "kernelspec": {
   "display_name": "Python 3",
   "language": "python",
   "name": "python3"
  },
  "language_info": {
   "codemirror_mode": {
    "name": "ipython",
    "version": 3
   },
   "file_extension": ".py",
   "mimetype": "text/x-python",
   "name": "python",
   "nbconvert_exporter": "python",
   "pygments_lexer": "ipython3",
   "version": "3.7.5"
  }
 },
 "nbformat": 4,
 "nbformat_minor": 4
}
